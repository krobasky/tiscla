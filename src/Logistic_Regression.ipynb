{
 "cells": [
  {
   "cell_type": "markdown",
   "id": "57f098e6",
   "metadata": {},
   "source": [
    "# Comparison: Multivariate Logistic Regression"
   ]
  },
  {
   "cell_type": "markdown",
   "id": "b815b219",
   "metadata": {},
   "source": [
    "## Load Data"
   ]
  },
  {
   "cell_type": "code",
   "execution_count": 1,
   "id": "f48c5d8c",
   "metadata": {},
   "outputs": [
    {
     "name": "stdout",
     "output_type": "stream",
     "text": [
      "dropped Kidney\n",
      "dropped Cervix Uteri\n",
      "dropped Fallopian Tube\n",
      "dropped Bladder\n",
      "(17244, 18966)\n",
      "[ 0] Adipose Tissue\t1204 samples\n",
      "[ 1] Muscle      \t 803 samples\n",
      "[ 2] Blood Vessel\t1335 samples\n",
      "[ 3] Heart       \t 861 samples\n",
      "[ 4] Uterus      \t 142 samples\n",
      "[ 5] Vagina      \t 156 samples\n",
      "[ 6] Breast      \t 459 samples\n",
      "[ 7] Skin        \t1809 samples\n",
      "[ 8] Salivary Gland\t 162 samples\n",
      "[ 9] Brain       \t2642 samples\n",
      "[10] Adrenal Gland\t 258 samples\n",
      "[11] Thyroid     \t 653 samples\n",
      "[12] Lung        \t 578 samples\n",
      "[13] Spleen      \t 241 samples\n",
      "[14] Pancreas    \t 328 samples\n",
      "[15] Esophagus   \t1445 samples\n",
      "[16] Stomach     \t 359 samples\n",
      "[17] Colon       \t 779 samples\n",
      "[18] Small Intestine\t 187 samples\n",
      "[19] Prostate    \t 245 samples\n",
      "[20] Testis      \t 361 samples\n",
      "[21] Nerve       \t 619 samples\n",
      "[22] Blood       \t 929 samples\n",
      "[23] Pituitary   \t 283 samples\n",
      "[24] Ovary       \t 180 samples\n",
      "[25] Liver       \t 226 samples\n"
     ]
    },
    {
     "name": "stderr",
     "output_type": "stream",
     "text": [
      "2022-07-21 14:02:13.412742: I tensorflow/stream_executor/cuda/cuda_gpu_executor.cc:923] could not open file to read NUMA node: /sys/bus/pci/devices/0000:01:00.0/numa_node\n",
      "Your kernel may have been built without NUMA support.\n",
      "2022-07-21 14:02:13.434436: I tensorflow/stream_executor/cuda/cuda_gpu_executor.cc:923] could not open file to read NUMA node: /sys/bus/pci/devices/0000:01:00.0/numa_node\n",
      "Your kernel may have been built without NUMA support.\n",
      "2022-07-21 14:02:13.434824: I tensorflow/stream_executor/cuda/cuda_gpu_executor.cc:923] could not open file to read NUMA node: /sys/bus/pci/devices/0000:01:00.0/numa_node\n",
      "Your kernel may have been built without NUMA support.\n",
      "2022-07-21 14:02:13.435486: I tensorflow/core/platform/cpu_feature_guard.cc:142] This TensorFlow binary is optimized with oneAPI Deep Neural Network Library (oneDNN) to use the following CPU instructions in performance-critical operations:  SSE4.1 SSE4.2 AVX AVX2 AVX512F FMA\n",
      "To enable them in other operations, rebuild TensorFlow with the appropriate compiler flags.\n",
      "2022-07-21 14:02:13.435960: I tensorflow/stream_executor/cuda/cuda_gpu_executor.cc:923] could not open file to read NUMA node: /sys/bus/pci/devices/0000:01:00.0/numa_node\n",
      "Your kernel may have been built without NUMA support.\n",
      "2022-07-21 14:02:13.436179: I tensorflow/stream_executor/cuda/cuda_gpu_executor.cc:923] could not open file to read NUMA node: /sys/bus/pci/devices/0000:01:00.0/numa_node\n",
      "Your kernel may have been built without NUMA support.\n",
      "2022-07-21 14:02:13.436378: I tensorflow/stream_executor/cuda/cuda_gpu_executor.cc:923] could not open file to read NUMA node: /sys/bus/pci/devices/0000:01:00.0/numa_node\n",
      "Your kernel may have been built without NUMA support.\n",
      "2022-07-21 14:02:13.926512: I tensorflow/stream_executor/cuda/cuda_gpu_executor.cc:923] could not open file to read NUMA node: /sys/bus/pci/devices/0000:01:00.0/numa_node\n",
      "Your kernel may have been built without NUMA support.\n",
      "2022-07-21 14:02:13.926863: I tensorflow/stream_executor/cuda/cuda_gpu_executor.cc:923] could not open file to read NUMA node: /sys/bus/pci/devices/0000:01:00.0/numa_node\n",
      "Your kernel may have been built without NUMA support.\n",
      "2022-07-21 14:02:13.926876: I tensorflow/core/common_runtime/gpu/gpu_device.cc:1594] Could not identify NUMA node of platform GPU id 0, defaulting to 0.  Your kernel may not have been built with NUMA support.\n",
      "2022-07-21 14:02:13.927103: I tensorflow/stream_executor/cuda/cuda_gpu_executor.cc:923] could not open file to read NUMA node: /sys/bus/pci/devices/0000:01:00.0/numa_node\n",
      "Your kernel may have been built without NUMA support.\n",
      "2022-07-21 14:02:13.927143: I tensorflow/core/common_runtime/gpu/gpu_device.cc:1510] Created device /job:localhost/replica:0/task:0/device:GPU:0 with 1612 MB memory:  -> device: 0, name: NVIDIA GeForce RTX 3050 Ti Laptop GPU, pci bus id: 0000:01:00.0, compute capability: 8.6\n"
     ]
    },
    {
     "name": "stdout",
     "output_type": "stream",
     "text": [
      "Total samples= 2600\n"
     ]
    }
   ],
   "source": [
    "import tensorflow as tf\n",
    "import pandas as pd\n",
    "from sklearn.preprocessing import LabelEncoder\n",
    "from sklearn.model_selection import train_test_split\n",
    "import numpy as np\n",
    "\n",
    "expr_df = pd.read_feather(\"data/gtex/expr.ftr\")\n",
    "attr_df = pd.read_table('dist/gtex/GTEx_Analysis_v8_Annotations_SampleAttributesDS.txt')\n",
    "\n",
    "label_df=attr_df[['SAMPID','SMTS']].merge(expr_df, how='inner', left_on='SAMPID', right_on='sample_id')\n",
    "labels = [s for s in label_df.SMTS.unique() if s not in ['Bone Marrow', 'Fallopian Tube', 'Cervix Uteri', 'Bladder','Skin']]\n",
    "\n",
    "SAMPLE_COUNT_THRESHOLD=100\n",
    "TRAINING_REINITIALIZATIONS=5\n",
    "\n",
    "counts={}\n",
    "for label in label_df.SMTS.unique():\n",
    "    count = label_df[(label_df.SMTS==label)].shape[0]\n",
    "    # if count < 200 or label == \"Heart\" or label == \"Lung\" or label == \"Brain\":\n",
    "    if count < SAMPLE_COUNT_THRESHOLD:\n",
    "        label_df = label_df[label_df.SMTS!=label]\n",
    "        print(f\"dropped {label}\")\n",
    "    else:\n",
    "        counts[label]=count\n",
    "\n",
    "#given an index, class_names will tell you the tissue type\n",
    "class_names=np.array(list(counts.keys()))\n",
    "\n",
    "print(label_df.shape)\n",
    "for idx, (label, count) in enumerate(counts.items()):\n",
    "    print(f\"[{idx:2}] {label:12}\\t{count:4} samples\")\n",
    "\n",
    "labels=list(label_df.SMTS.unique())\n",
    "X=label_df.drop(['SMTS','SAMPID','sample_id'],axis=1)\n",
    "X=np.log2(np.array(X)+1)\n",
    "X=X/X.max()\n",
    "\n",
    "le = LabelEncoder()\n",
    "y = tf.one_hot(le.fit_transform(list(label_df['SMTS'])), len(labels))\n",
    "# labels order is not retained in the labeleoncoder, so reset the order in class_names for use later:\n",
    "class_names = le.classes_\n",
    "\n",
    "# only use about 200 samples of each class:\n",
    "fraction=SAMPLE_COUNT_THRESHOLD*len(labels)/X.shape[0]\n",
    "# change fraction to 1. to use entire dataset\n",
    "x_train, x_test,y_train, y_test = train_test_split(X, np.array(y), test_size=1.-fraction, random_state=42, shuffle=True)\n",
    "\n",
    "x_train, x_test,y_train, y_test = train_test_split(x_train, y_train, test_size=0.1, random_state=42, shuffle=True)\n",
    "x_train, x_validation,y_train, y_validation = train_test_split(x_train, y_train, test_size=0.1, random_state=42, shuffle=True)\n",
    "print(f\"Total samples= {x_train.shape[0] + x_validation.shape[0] + x_test.shape[0]}\")"
   ]
  },
  {
   "cell_type": "markdown",
   "id": "45bf0d8e",
   "metadata": {},
   "source": [
    "# Multivariate logistic regression\n",
    "\n",
    "Multinomial logistic regression extends binomial logistic regression beyond binary classification to solve multi-class prediction problems. Like binomial logistic regression, multinomial logistic regression evaluates the probability of categorical membership using maximum likelihood estimation. For a tissue classifier, it would be beneficial to allow all the data to inform the classification, hence the desire for a multinomial solution. Step one considers multi-logistic regression, an approach for finding solutions with more than two possible outcome valuse which are not ordered. The data to be analyzed, gene expression counts, are comprised of nonlinear covariates, so categorical cross-entropy (a.k.a. \"log loss\") is better than mean squared error (MSE) for the loss function, with MSE being more common in analyzing linear models. Gene expression data is very noisy, so logistic regression may seem a good approach for its robustness to noisy data.\n",
    "\n",
    "https://builtin.com/data-science/guide-logistic-regression-tensorflow-20"
   ]
  },
  {
   "cell_type": "code",
   "execution_count": 2,
   "id": "1f4231d8",
   "metadata": {},
   "outputs": [
    {
     "data": {
      "text/plain": [
       "((2106, 18963), (260, 18963), (2106, 26), (260, 26), 2106)"
      ]
     },
     "execution_count": 2,
     "metadata": {},
     "output_type": "execute_result"
    }
   ],
   "source": [
    "# import modules\n",
    "from __future__ import absolute_import, division, print_function\n",
    "import tensorflow as tf\n",
    "import numpy as np\n",
    "\n",
    "x_train.shape, x_test.shape, y_train.shape, y_test.shape , len(np.argmax(y_train,axis=1))"
   ]
  },
  {
   "cell_type": "code",
   "execution_count": 3,
   "id": "4f9cee15",
   "metadata": {},
   "outputs": [],
   "source": [
    "# set up hyperparameters and dataset parameters\n",
    "num_classes = y_train.shape[1]\n",
    "num_features = x_train.shape[1]\n",
    "x_train = tf.cast(x_train, dtype=tf.float32)\n",
    "y_train = tf.cast(np.argmax(y_train, axis=1), dtype=tf.int32)\n",
    "\n",
    "x_test = tf.cast(x_test, dtype=tf.float32)\n",
    "y_test = tf.cast(np.argmax(y_test, axis=1), dtype=tf.int32)\n"
   ]
  },
  {
   "cell_type": "code",
   "execution_count": 4,
   "id": "2c88c888",
   "metadata": {},
   "outputs": [],
   "source": [
    "# Logistic regression (Wx + b).\n",
    "def logistic_regression(x):\n",
    "    # Apply softmax to normalize the logits to a probability distribution.\n",
    "    return tf.nn.softmax(tf.matmul(x, W) + b)\n",
    "\n",
    "# Cross-Entropy loss function.\n",
    "def cross_entropy(y_pred, y_true):\n",
    "    # Encode label to a one hot vector.\n",
    "    y_true = tf.one_hot(y_true, depth=num_classes)\n",
    "    # Clip prediction values to avoid log(0) error.\n",
    "    y_pred = tf.clip_by_value(y_pred, 1e-9, 1.)\n",
    "    # Compute cross-entropy.\n",
    "    return tf.reduce_mean(-tf.reduce_sum(y_true * tf.math.log(y_pred)))\n",
    "\n",
    "# define optimizers and accuracy metrics\n",
    "\n",
    "# Accuracy metric.\n",
    "def accuracy(y_pred, y_true):\n",
    "    # Predicted class is the index of the highest score in prediction vector (i.e. argmax).\n",
    "    correct_prediction = tf.equal(tf.argmax(y_pred, 1), tf.cast(y_true, tf.int64))\n",
    "    return tf.reduce_mean(tf.cast(correct_prediction, tf.float32))\n",
    "\n",
    "# Optimization process. \n",
    "def run_optimization(x, y):\n",
    "    # Wrap computation inside a GradientTape for automatic differentiation.\n",
    "    with tf.GradientTape() as g:\n",
    "        pred = logistic_regression(x)\n",
    "        loss = cross_entropy(pred, y)\n",
    "\n",
    "    # Compute gradients.\n",
    "    gradients = g.gradient(loss, [W, b])\n",
    "\n",
    "    # Update W and b following gradients.\n",
    "    optimizer.apply_gradients(zip(gradients, [W, b]))\n",
    "    "
   ]
  },
  {
   "cell_type": "code",
   "execution_count": 5,
   "id": "bfe495c1",
   "metadata": {},
   "outputs": [
    {
     "name": "stderr",
     "output_type": "stream",
     "text": [
      "2022-07-21 14:02:19.269765: I tensorflow/stream_executor/cuda/cuda_blas.cc:1760] TensorFloat-32 will be used for the matrix multiplication. This will only be logged once.\n"
     ]
    },
    {
     "name": "stdout",
     "output_type": "stream",
     "text": [
      "Test Accuracy: 0.950000\n",
      "Test Accuracy: 0.942308\n",
      "Test Accuracy: 0.953846\n",
      "Test Accuracy: 0.961538\n",
      "Test Accuracy: 0.953846\n"
     ]
    },
    {
     "data": {
      "image/png": "[encoded data removed]",
      "text/plain": [
       "<Figure size 432x288 with 1 Axes>"
      ]
     },
     "metadata": {
      "needs_background": "light"
     },
     "output_type": "display_data"
    }
   ],
   "source": [
    "acc_list = []\n",
    "for i in range(5):\n",
    "    batch_size=32\n",
    "    import numpy as np\n",
    "\n",
    "    import sklearn\n",
    "    from sklearn.utils.class_weight import compute_class_weight\n",
    "    y_integers = y_train\n",
    "    class_weights = sklearn.utils.class_weight.compute_class_weight(class_weight='balanced', \n",
    "                                                                    classes=np.unique(y_integers), \n",
    "                                                                    y=y_integers.numpy())\n",
    "\n",
    "    # shuffling and batch the data\n",
    "    train_data=tf.data.Dataset.from_tensor_slices((x_train,y_train))\n",
    "    train_data=train_data.repeat().shuffle(100).batch(batch_size).prefetch(1)\n",
    "\n",
    "    # initialize weights and biases\n",
    "    # Weight of shape [18963, 27], the features, and a total number of classes.\n",
    "    W = tf.Variable(tf.ones([num_features, num_classes]), name=\"weight\")\n",
    "    # Bias of shape [27], the total number of classes.\n",
    "    b = tf.Variable(tf.zeros([num_classes]), name=\"bias\")\n",
    "\n",
    "    # define the logistic regression cost\n",
    "\n",
    "\n",
    "    # Optimization process and updating weights and biases\n",
    "\n",
    "    # Stochastic gradient descent optimizer.\n",
    "    learning_rate = 0.001\n",
    "    optimizer = tf.optimizers.SGD(learning_rate)\n",
    "\n",
    "    # Training parameters.\n",
    "    training_steps = 1000\n",
    "    display_step = 1\n",
    "\n",
    "    # training loop\n",
    "\n",
    "    history={\"accuracy\":[], \"loss\":[]}\n",
    "    # Run training for the given number of steps.\n",
    "    for step, (batch_x, batch_y) in enumerate(train_data.take(training_steps), 1):\n",
    "        # Run the optimization to update W and b values.\n",
    "        batch_x = batch_x\n",
    "        batch_y = batch_y\n",
    "\n",
    "        run_optimization(batch_x, batch_y)\n",
    "        if step % display_step == 0:\n",
    "            pred = logistic_regression(batch_x)\n",
    "            loss = cross_entropy(pred, batch_y)\n",
    "            acc = accuracy(pred, batch_y)\n",
    "            history[\"accuracy\"].append(acc)\n",
    "            history[\"loss\"].append(loss)\n",
    "            #print(\"step: %i, loss: %f, accuracy: %f\" % (step, loss, acc))\n",
    "\n",
    "    import matplotlib.pyplot as plt\n",
    "    plt.plot(history[\"accuracy\"])\n",
    "    plt.plot(np.array(history[\"loss\"])/160.);\n",
    "\n",
    "    y_pred = logistic_regression(x_test)\n",
    "    acc = accuracy(y_pred, y_test)\n",
    "    print(\"Test Accuracy: %f\" % acc)\n",
    "    acc_list.append(acc)\n",
    "    \n"
   ]
  },
  {
   "cell_type": "markdown",
   "id": "5969b458",
   "metadata": {},
   "source": [
    "# Accuracy"
   ]
  },
  {
   "cell_type": "code",
   "execution_count": 6,
   "id": "e639254e",
   "metadata": {},
   "outputs": [
    {
     "name": "stdout",
     "output_type": "stream",
     "text": [
      "0.9523077 0.0062492476 [0.95, 0.9423077, 0.95384616, 0.96153843, 0.95384616]\n"
     ]
    },
    {
     "data": {
      "image/png": "[encoded data removed]",
      "text/plain": [
       "<Figure size 432x288 with 1 Axes>"
      ]
     },
     "metadata": {
      "needs_background": "light"
     },
     "output_type": "display_data"
    }
   ],
   "source": [
    "import matplotlib.pyplot as plt\n",
    "acc_np_list = list(map(lambda x: x.numpy() ,acc_list))\n",
    "print(np.mean(acc_np_list), np.std(acc_np_list), acc_np_list)\n",
    "plt.boxplot(acc_np_list);"
   ]
  },
  {
   "cell_type": "code",
   "execution_count": 7,
   "id": "c8b3a19b",
   "metadata": {},
   "outputs": [
    {
     "name": "stdout",
     "output_type": "stream",
     "text": [
      "Tissue       Fraction of predictions\n",
      "Adipose Tissue  0.0625\n",
      "Adrenal Gland   0.03125\n",
      "Blood           0.09375\n",
      "Blood Vessel    0.0625\n",
      "Brain           0.125\n",
      "Breast          0.0\n",
      "Colon           0.03125\n",
      "Esophagus       0.03125\n",
      "Heart           0.0\n",
      "Liver           0.0625\n",
      "Lung            0.0625\n",
      "Muscle          0.03125\n",
      "Nerve           0.09375\n",
      "Ovary           0.03125\n",
      "Pancreas        0.0\n",
      "Pituitary       0.0\n",
      "Prostate        0.03125\n",
      "Salivary Gland  0.0\n",
      "Skin            0.125\n",
      "Small Intestine 0.0625\n",
      "Spleen          0.0\n",
      "Stomach         0.03125\n",
      "Testis          0.0\n",
      "Thyroid         0.0\n",
      "Uterus          0.0\n",
      "Vagina          0.03125\n"
     ]
    }
   ],
   "source": [
    "y_pred_class=np.argmax(pred,axis=1)\n",
    "\n",
    "print(f\"{'Tissue':12} Fraction of predictions\")\n",
    "for i in range(26):\n",
    "    print(f\"{class_names[i]:15} {len(y_pred_class[y_pred_class==i])/len(y_pred_class):2.4}\")"
   ]
  }
 ],
 "metadata": {
  "kernelspec": {
   "display_name": "Python 3 (ipykernel)",
   "language": "python",
   "name": "python3"
  },
  "language_info": {
   "codemirror_mode": {
    "name": "ipython",
    "version": 3
   },
   "file_extension": ".py",
   "mimetype": "text/x-python",
   "name": "python",
   "nbconvert_exporter": "python",
   "pygments_lexer": "ipython3",
   "version": "3.9.13"
  }
 },
 "nbformat": 4,
 "nbformat_minor": 5
}
