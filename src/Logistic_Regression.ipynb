{
 "cells": [
  {
   "cell_type": "markdown",
   "id": "57f098e6",
   "metadata": {},
   "source": [
    "# Comparison: Multivariate Logistic Regression"
   ]
  },
  {
   "cell_type": "markdown",
   "id": "604f618f",
   "metadata": {},
   "source": [
    "# Load Data"
   ]
  },
  {
   "cell_type": "code",
   "execution_count": 1,
   "id": "3fabffe1",
   "metadata": {},
   "outputs": [
    {
     "name": "stdout",
     "output_type": "stream",
     "text": [
      "Drop under-represented classes with less than 100 samples:\n",
      "dropped Kidney\n",
      "dropped Cervix Uteri\n",
      "dropped Fallopian Tube\n",
      "dropped Bladder\n",
      "Counts per class:\n",
      "(total number of samples, total number of genes) = \n",
      "(17244, 18966)\n",
      "[ 0] Adipose Tissue\t1204 samples\n",
      "[ 1] Muscle      \t 803 samples\n",
      "[ 2] Blood Vessel\t1335 samples\n",
      "[ 3] Heart       \t 861 samples\n",
      "[ 4] Uterus      \t 142 samples\n",
      "[ 5] Vagina      \t 156 samples\n",
      "[ 6] Breast      \t 459 samples\n",
      "[ 7] Skin        \t1809 samples\n",
      "[ 8] Salivary Gland\t 162 samples\n",
      "[ 9] Brain       \t2642 samples\n",
      "[10] Adrenal Gland\t 258 samples\n",
      "[11] Thyroid     \t 653 samples\n",
      "[12] Lung        \t 578 samples\n",
      "[13] Spleen      \t 241 samples\n",
      "[14] Pancreas    \t 328 samples\n",
      "[15] Esophagus   \t1445 samples\n",
      "[16] Stomach     \t 359 samples\n",
      "[17] Colon       \t 779 samples\n",
      "[18] Small Intestine\t 187 samples\n",
      "[19] Prostate    \t 245 samples\n",
      "[20] Testis      \t 361 samples\n",
      "[21] Nerve       \t 619 samples\n",
      "[22] Blood       \t 929 samples\n",
      "[23] Pituitary   \t 283 samples\n",
      "[24] Ovary       \t 180 samples\n",
      "[25] Liver       \t 226 samples\n"
     ]
    },
    {
     "name": "stderr",
     "output_type": "stream",
     "text": [
      "2022-07-23 18:37:08.263211: I tensorflow/stream_executor/cuda/cuda_gpu_executor.cc:923] could not open file to read NUMA node: /sys/bus/pci/devices/0000:01:00.0/numa_node\n",
      "Your kernel may have been built without NUMA support.\n",
      "2022-07-23 18:37:08.294519: I tensorflow/stream_executor/cuda/cuda_gpu_executor.cc:923] could not open file to read NUMA node: /sys/bus/pci/devices/0000:01:00.0/numa_node\n",
      "Your kernel may have been built without NUMA support.\n",
      "2022-07-23 18:37:08.295203: I tensorflow/stream_executor/cuda/cuda_gpu_executor.cc:923] could not open file to read NUMA node: /sys/bus/pci/devices/0000:01:00.0/numa_node\n",
      "Your kernel may have been built without NUMA support.\n",
      "2022-07-23 18:37:08.295898: I tensorflow/core/platform/cpu_feature_guard.cc:142] This TensorFlow binary is optimized with oneAPI Deep Neural Network Library (oneDNN) to use the following CPU instructions in performance-critical operations:  SSE4.1 SSE4.2 AVX AVX2 AVX512F FMA\n",
      "To enable them in other operations, rebuild TensorFlow with the appropriate compiler flags.\n",
      "2022-07-23 18:37:08.296684: I tensorflow/stream_executor/cuda/cuda_gpu_executor.cc:923] could not open file to read NUMA node: /sys/bus/pci/devices/0000:01:00.0/numa_node\n",
      "Your kernel may have been built without NUMA support.\n",
      "2022-07-23 18:37:08.297297: I tensorflow/stream_executor/cuda/cuda_gpu_executor.cc:923] could not open file to read NUMA node: /sys/bus/pci/devices/0000:01:00.0/numa_node\n",
      "Your kernel may have been built without NUMA support.\n",
      "2022-07-23 18:37:08.297902: I tensorflow/stream_executor/cuda/cuda_gpu_executor.cc:923] could not open file to read NUMA node: /sys/bus/pci/devices/0000:01:00.0/numa_node\n",
      "Your kernel may have been built without NUMA support.\n",
      "2022-07-23 18:37:08.814411: I tensorflow/stream_executor/cuda/cuda_gpu_executor.cc:923] could not open file to read NUMA node: /sys/bus/pci/devices/0000:01:00.0/numa_node\n",
      "Your kernel may have been built without NUMA support.\n",
      "2022-07-23 18:37:08.815163: I tensorflow/stream_executor/cuda/cuda_gpu_executor.cc:923] could not open file to read NUMA node: /sys/bus/pci/devices/0000:01:00.0/numa_node\n",
      "Your kernel may have been built without NUMA support.\n",
      "2022-07-23 18:37:08.815204: I tensorflow/core/common_runtime/gpu/gpu_device.cc:1594] Could not identify NUMA node of platform GPU id 0, defaulting to 0.  Your kernel may not have been built with NUMA support.\n",
      "2022-07-23 18:37:08.815665: I tensorflow/stream_executor/cuda/cuda_gpu_executor.cc:923] could not open file to read NUMA node: /sys/bus/pci/devices/0000:01:00.0/numa_node\n",
      "Your kernel may have been built without NUMA support.\n",
      "2022-07-23 18:37:08.815735: I tensorflow/core/common_runtime/gpu/gpu_device.cc:1510] Created device /job:localhost/replica:0/task:0/device:GPU:0 with 1612 MB memory:  -> device: 0, name: NVIDIA GeForce RTX 3050 Ti Laptop GPU, pci bus id: 0000:01:00.0, compute capability: 8.6\n"
     ]
    }
   ],
   "source": [
    "# only use about 100 samples of each class:\n",
    "SAMPLE_COUNT_THRESHOLD=100\n",
    "from sbr.preprocessing import gtex\n",
    "X, y, class_names, label_df = gtex.dataset_setup(sample_count_threshold = SAMPLE_COUNT_THRESHOLD,\n",
    "                                          drop_classes_list = ['Bone Marrow', 'Fallopian Tube', 'Cervix Uteri', 'Bladder','Skin'])"
   ]
  },
  {
   "cell_type": "markdown",
   "id": "8f241075",
   "metadata": {},
   "source": [
    "# Split the data"
   ]
  },
  {
   "cell_type": "code",
   "execution_count": 3,
   "id": "2f27bf89",
   "metadata": {},
   "outputs": [
    {
     "name": "stdout",
     "output_type": "stream",
     "text": [
      "\n",
      "Total remaining samples after subsampling= 2600\n"
     ]
    },
    {
     "data": {
      "text/plain": [
       "'\\n[x_train, y_train, x_validation, y_validation, x_test,y_test] = trim_list_size_to_batch_size_factor(batch_size, [x_train, y_train,\\n                                                                                                   x_validation,\\n                                                                                                   y_validation,\\n                                                                                                   x_test, y_test])\\n'"
      ]
     },
     "execution_count": 3,
     "metadata": {},
     "output_type": "execute_result"
    }
   ],
   "source": [
    "from sbr.preprocessing.dataset import multicategorical_split,  trim_list_size_to_batch_size_factor\n",
    "batch_size=32\n",
    "x_train, y_train, x_validation, y_validation, x_test, y_test = multicategorical_split(X, y,\n",
    "                                                                                      sample_count_threshold = SAMPLE_COUNT_THRESHOLD,\n",
    "                                                                                      test_fraction = 0.1,\n",
    "                                                                                      validation_fraction = 0.1,\n",
    "                                                                                      verbose=True,\n",
    "                                                                                      batch_size=batch_size,\n",
    "                                                                                      seed=42)\n",
    "#[x_train, y_train, x_validation, y_validation, x_test,y_test] = trim_list_size_to_batch_size_factor(batch_size, [x_train, y_train,\n",
    "#                                                                                                   x_validation,\n",
    "#                                                                                                   y_validation,\n",
    "#                                                                                                   x_test, y_test])\n",
    "#"
   ]
  },
  {
   "cell_type": "markdown",
   "id": "45bf0d8e",
   "metadata": {},
   "source": [
    "# Multivariate logistic regression\n",
    "\n",
    "Multinomial logistic regression extends binomial logistic regression beyond binary classification to solve multi-class prediction problems. Like binomial logistic regression, multinomial logistic regression evaluates the probability of categorical membership using maximum likelihood estimation. For a tissue classifier, it would be beneficial to allow all the data to inform the classification, hence the desire for a multinomial solution. Step one considers multi-logistic regression, an approach for finding solutions with more than two possible outcome valuse which are not ordered. The data to be analyzed, gene expression counts, are comprised of nonlinear covariates, so categorical cross-entropy (a.k.a. \"log loss\") is better than mean squared error (MSE) for the loss function, with MSE being more common in analyzing linear models. Gene expression data is very noisy, so logistic regression may seem a good approach for its robustness to noisy data.\n",
    "\n",
    "https://builtin.com/data-science/guide-logistic-regression-tensorflow-20"
   ]
  },
  {
   "cell_type": "code",
   "execution_count": 4,
   "id": "1f4231d8",
   "metadata": {},
   "outputs": [
    {
     "data": {
      "text/plain": [
       "((2080, 18963), (260, 18963), (2080, 26), (260, 26), 2080)"
      ]
     },
     "execution_count": 4,
     "metadata": {},
     "output_type": "execute_result"
    }
   ],
   "source": [
    "# import modules\n",
    "from __future__ import absolute_import, division, print_function\n",
    "import tensorflow as tf\n",
    "import numpy as np\n",
    "\n",
    "x_train.shape, x_test.shape, y_train.shape, y_test.shape , len(np.argmax(y_train,axis=1))"
   ]
  },
  {
   "cell_type": "code",
   "execution_count": 5,
   "id": "4f9cee15",
   "metadata": {},
   "outputs": [],
   "source": [
    "# set up hyperparameters and dataset parameters\n",
    "num_classes = y_train.shape[1]\n",
    "num_features = x_train.shape[1]\n",
    "x_train = tf.cast(x_train, dtype=tf.float32)\n",
    "y_train = tf.cast(np.argmax(y_train, axis=1), dtype=tf.int32)\n",
    "\n",
    "x_test = tf.cast(x_test, dtype=tf.float32)\n",
    "y_test = tf.cast(np.argmax(y_test, axis=1), dtype=tf.int32)\n"
   ]
  },
  {
   "cell_type": "code",
   "execution_count": 6,
   "id": "2c88c888",
   "metadata": {},
   "outputs": [],
   "source": [
    "# Logistic regression (Wx + b).\n",
    "def logistic_regression(x):\n",
    "    # Apply softmax to normalize the logits to a probability distribution.\n",
    "    return tf.nn.softmax(tf.matmul(x, W) + b)\n",
    "\n",
    "# Cross-Entropy loss function.\n",
    "def cross_entropy(y_pred, y_true):\n",
    "    # Encode label to a one hot vector.\n",
    "    y_true = tf.one_hot(y_true, depth=num_classes)\n",
    "    # Clip prediction values to avoid log(0) error.\n",
    "    y_pred = tf.clip_by_value(y_pred, 1e-9, 1.)\n",
    "    # Compute cross-entropy.\n",
    "    return tf.reduce_mean(-tf.reduce_sum(y_true * tf.math.log(y_pred)))\n",
    "\n",
    "# define optimizers and accuracy metrics\n",
    "\n",
    "# Accuracy metric.\n",
    "def accuracy(y_pred, y_true):\n",
    "    # Predicted class is the index of the highest score in prediction vector (i.e. argmax).\n",
    "    correct_prediction = tf.equal(tf.argmax(y_pred, 1), tf.cast(y_true, tf.int64))\n",
    "    return tf.reduce_mean(tf.cast(correct_prediction, tf.float32))\n",
    "\n",
    "# Optimization process. \n",
    "def run_optimization(x, y):\n",
    "    # Wrap computation inside a GradientTape for automatic differentiation.\n",
    "    with tf.GradientTape() as g:\n",
    "        pred = logistic_regression(x)\n",
    "        loss = cross_entropy(pred, y)\n",
    "\n",
    "    # Compute gradients.\n",
    "    gradients = g.gradient(loss, [W, b])\n",
    "\n",
    "    # Update W and b following gradients.\n",
    "    optimizer.apply_gradients(zip(gradients, [W, b]))\n",
    "    "
   ]
  },
  {
   "cell_type": "code",
   "execution_count": 7,
   "id": "bfe495c1",
   "metadata": {},
   "outputs": [
    {
     "name": "stderr",
     "output_type": "stream",
     "text": [
      "2022-07-23 18:43:16.293727: I tensorflow/stream_executor/cuda/cuda_blas.cc:1760] TensorFloat-32 will be used for the matrix multiplication. This will only be logged once.\n"
     ]
    },
    {
     "name": "stdout",
     "output_type": "stream",
     "text": [
      "Test Accuracy: 0.953846\n",
      "Test Accuracy: 0.926923\n",
      "Test Accuracy: 0.950000\n",
      "Test Accuracy: 0.950000\n",
      "Test Accuracy: 0.950000\n"
     ]
    },
    {
     "data": {
      "image/png": "[encoded data removed]",
      "text/plain": [
       "<Figure size 432x288 with 1 Axes>"
      ]
     },
     "metadata": {
      "needs_background": "light"
     },
     "output_type": "display_data"
    }
   ],
   "source": [
    "acc_list = []\n",
    "for i in range(5):\n",
    "    batch_size=32\n",
    "    import numpy as np\n",
    "\n",
    "    import sklearn\n",
    "    from sklearn.utils.class_weight import compute_class_weight\n",
    "    y_integers = y_train\n",
    "    class_weights = sklearn.utils.class_weight.compute_class_weight(class_weight='balanced', \n",
    "                                                                    classes=np.unique(y_integers), \n",
    "                                                                    y=y_integers.numpy())\n",
    "\n",
    "    # shuffling and batch the data\n",
    "    train_data=tf.data.Dataset.from_tensor_slices((x_train,y_train))\n",
    "    train_data=train_data.repeat().shuffle(100).batch(batch_size).prefetch(1)\n",
    "\n",
    "    # initialize weights and biases\n",
    "    # Weight of shape [18963, 27], the features, and a total number of classes.\n",
    "    W = tf.Variable(tf.ones([num_features, num_classes]), name=\"weight\")\n",
    "    # Bias of shape [27], the total number of classes.\n",
    "    b = tf.Variable(tf.zeros([num_classes]), name=\"bias\")\n",
    "\n",
    "    # define the logistic regression cost\n",
    "\n",
    "\n",
    "    # Optimization process and updating weights and biases\n",
    "\n",
    "    # Stochastic gradient descent optimizer.\n",
    "    learning_rate = 0.001\n",
    "    optimizer = tf.optimizers.SGD(learning_rate)\n",
    "\n",
    "    # Training parameters.\n",
    "    training_steps = 1000\n",
    "    display_step = 1\n",
    "\n",
    "    # training loop\n",
    "\n",
    "    history={\"accuracy\":[], \"loss\":[]}\n",
    "    # Run training for the given number of steps.\n",
    "    for step, (batch_x, batch_y) in enumerate(train_data.take(training_steps), 1):\n",
    "        # Run the optimization to update W and b values.\n",
    "        batch_x = batch_x\n",
    "        batch_y = batch_y\n",
    "\n",
    "        run_optimization(batch_x, batch_y)\n",
    "        if step % display_step == 0:\n",
    "            pred = logistic_regression(batch_x)\n",
    "            loss = cross_entropy(pred, batch_y)\n",
    "            acc = accuracy(pred, batch_y)\n",
    "            history[\"accuracy\"].append(acc)\n",
    "            history[\"loss\"].append(loss)\n",
    "            #print(\"step: %i, loss: %f, accuracy: %f\" % (step, loss, acc))\n",
    "\n",
    "    import matplotlib.pyplot as plt\n",
    "    plt.plot(history[\"accuracy\"])\n",
    "    plt.plot(np.array(history[\"loss\"])/160.);\n",
    "\n",
    "    y_pred = logistic_regression(x_test)\n",
    "    acc = accuracy(y_pred, y_test)\n",
    "    print(\"Test Accuracy: %f\" % acc)\n",
    "    acc_list.append(acc)\n",
    "    \n"
   ]
  },
  {
   "cell_type": "markdown",
   "id": "5969b458",
   "metadata": {},
   "source": [
    "# Accuracy\n",
    "Average accuracy for our multinomial linear regression is about 0.95, vs the neural network, which achieved an accuracy of 0.98 in the training pipeline."
   ]
  },
  {
   "cell_type": "code",
   "execution_count": 8,
   "id": "3deddcdd",
   "metadata": {},
   "outputs": [
    {
     "name": "stdout",
     "output_type": "stream",
     "text": [
      "0.9461538 0.0097300755 [0.95384616, 0.9269231, 0.95, 0.95, 0.95]\n"
     ]
    },
    {
     "data": {
      "image/png": "[encoded data removed]",
      "text/plain": [
       "<Figure size 432x288 with 1 Axes>"
      ]
     },
     "metadata": {
      "needs_background": "light"
     },
     "output_type": "display_data"
    }
   ],
   "source": [
    "import matplotlib.pyplot as plt\n",
    "acc_np_list = list(map(lambda x: x.numpy() ,acc_list))\n",
    "print(np.mean(acc_np_list), np.std(acc_np_list), acc_np_list)\n",
    "plt.boxplot(acc_np_list);"
   ]
  },
  {
   "cell_type": "code",
   "execution_count": 9,
   "id": "c8b3a19b",
   "metadata": {},
   "outputs": [
    {
     "name": "stdout",
     "output_type": "stream",
     "text": [
      "Tissue       Fraction of predictions\n",
      "Adipose Tissue  0.125\n",
      "Adrenal Gland   0.0\n",
      "Blood           0.0625\n",
      "Blood Vessel    0.09375\n",
      "Brain           0.125\n",
      "Breast          0.03125\n",
      "Colon           0.125\n",
      "Esophagus       0.03125\n",
      "Heart           0.09375\n",
      "Liver           0.0\n",
      "Lung            0.03125\n",
      "Muscle          0.0\n",
      "Nerve           0.0\n",
      "Ovary           0.03125\n",
      "Pancreas        0.0\n",
      "Pituitary       0.03125\n",
      "Prostate        0.0\n",
      "Salivary Gland  0.0\n",
      "Skin            0.125\n",
      "Small Intestine 0.0\n",
      "Spleen          0.0\n",
      "Stomach         0.0\n",
      "Testis          0.03125\n",
      "Thyroid         0.0625\n",
      "Uterus          0.0\n",
      "Vagina          0.0\n"
     ]
    }
   ],
   "source": [
    "y_pred_class=np.argmax(pred,axis=1)\n",
    "\n",
    "print(f\"{'Tissue':12} Fraction of predictions\")\n",
    "for i in range(26):\n",
    "    print(f\"{class_names[i]:15} {len(y_pred_class[y_pred_class==i])/len(y_pred_class):2.4}\")"
   ]
  },
  {
   "cell_type": "code",
   "execution_count": null,
   "id": "7f604ac0",
   "metadata": {},
   "outputs": [],
   "source": []
  }
 ],
 "metadata": {
  "kernelspec": {
   "display_name": "Python 3 (ipykernel)",
   "language": "python",
   "name": "python3"
  },
  "language_info": {
   "codemirror_mode": {
    "name": "ipython",
    "version": 3
   },
   "file_extension": ".py",
   "mimetype": "text/x-python",
   "name": "python",
   "nbconvert_exporter": "python",
   "pygments_lexer": "ipython3",
   "version": "3.9.13"
  }
 },
 "nbformat": 4,
 "nbformat_minor": 5
}
